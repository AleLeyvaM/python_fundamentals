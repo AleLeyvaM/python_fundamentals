{
  "nbformat": 4,
  "nbformat_minor": 0,
  "metadata": {
    "colab": {
      "provenance": []
    },
    "kernelspec": {
      "name": "python3",
      "display_name": "Python 3"
    },
    "language_info": {
      "name": "python"
    }
  },
  "cells": [
    {
      "cell_type": "code",
      "execution_count": 11,
      "metadata": {
        "colab": {
          "base_uri": "https://localhost:8080/"
        },
        "id": "T6qCngbKI0IQ",
        "outputId": "914caf9f-b779-46ce-acb1-022b3d36cd72"
      },
      "outputs": [
        {
          "output_type": "stream",
          "name": "stdout",
          "text": [
            "Nombre: David\n",
            "Número: 13\n",
            "Nombre: Ale\n",
            "Número: 21\n",
            "Nombre: Olga\n",
            "Número: 67\n",
            "Nombre: Jorge\n",
            "Número: 10\n",
            "Nombre: Carlos\n",
            "Número: 6\n"
          ]
        }
      ],
      "source": [
        "# Parte 1\n",
        "# 1.- Crea un diccionario en donde definas al menos 5 personas con un número cada uno.\n",
        "# 2.- Luego utilizando un bucle for imprime los valores del diccionario (nombre de la persona y número que dijo)\n",
        "\n",
        "personas = {\"David\":13,\"Ale\":21,\"Olga\":67,\"Jorge\":10,\"Carlos\":6}\n",
        "\n",
        "for persona in personas:\n",
        "  print(f\"Nombre: {persona}\")\n",
        "  print(\"Número:\", personas[persona])"
      ]
    },
    {
      "cell_type": "code",
      "source": [
        "# Parte 2\n",
        "# 1.- Imprime dos mensajes, mostrando el número más grande, y el número más pequeño del diccionario. (Sin el nombre del socio, sólo el número)\n",
        "\n",
        "# Código previo a ver el paso a paso de la actividad\n",
        "numero_mayor = 0\n",
        "numero_menor = 0\n",
        "\n",
        "for persona in personas:\n",
        "  if personas[persona] > numero_mayor:\n",
        "    numero_mayor = personas[persona]\n",
        "  elif numero_menor == 0 :\n",
        "    numero_menor = personas[persona]\n",
        "  elif personas[persona] < numero_menor:\n",
        "    numero_menor = personas[persona]\n",
        "\n",
        "print(f\"El número mayor del diccionario es: {numero_mayor}\")\n",
        "print(f\"El número menor del diccionario es: {numero_menor}\")\n",
        "\n",
        "# Código del paso a paso de la actividad:\n",
        "\n",
        "valores = personas.values()\n",
        "\n",
        "minimo = min(valores)\n",
        "maximo = max(valores)\n",
        "\n",
        "print(f\"\\nEl valor más grande de la lista es: {maximo}\")\n",
        "print(f\"El valor más pequeño de la lista es: {minimo}\")"
      ],
      "metadata": {
        "colab": {
          "base_uri": "https://localhost:8080/"
        },
        "id": "3Q5_2hUEKixt",
        "outputId": "57dc7077-665f-46cd-af59-6296192d81e9"
      },
      "execution_count": 24,
      "outputs": [
        {
          "output_type": "stream",
          "name": "stdout",
          "text": [
            "El número mayor del diccionario es: 67\n",
            "El número menor del diccionario es: 6\n",
            "\n",
            "El valor más grande de la lista es: 67\n",
            "El valor más pequeño de la lista es: 6\n"
          ]
        }
      ]
    }
  ]
}