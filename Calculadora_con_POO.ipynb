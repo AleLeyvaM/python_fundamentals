{
  "nbformat": 4,
  "nbformat_minor": 0,
  "metadata": {
    "colab": {
      "provenance": []
    },
    "kernelspec": {
      "name": "python3",
      "display_name": "Python 3"
    },
    "language_info": {
      "name": "python"
    }
  },
  "cells": [
    {
      "cell_type": "code",
      "execution_count": 35,
      "metadata": {
        "colab": {
          "base_uri": "https://localhost:8080/"
        },
        "id": "HH43M0fmZMdG",
        "outputId": "dfbdb9d9-c5a7-4fa2-c9d3-b3374dfa2fb8"
      },
      "outputs": [
        {
          "output_type": "stream",
          "name": "stdout",
          "text": [
            "Ingrese el primer valor: 100\n",
            "Ingrese el segundo valor: 0\n",
            "El resultado de la suma es:  100\n",
            "El resultado de la resta es:  100\n",
            "El resultado de la división es:  Indefinido\n",
            "El resultado de la multiplicación es:  0\n"
          ]
        }
      ],
      "source": [
        "# Parte 1\n",
        "# Utilizando la Programación Orientada a Objetos, realiza lo siguiente:\n",
        "# Crea un objeto (una clase) llamado Calculadora con al menos 4 operaciones básicas (sumar, restar, dividir y multiplicar).\n",
        "# El programa debe pedirle al usuario que ingrese dos valores, con los cuales la calculadora hará las 4 operaciones definidas anteriormente.\n",
        "# Es importante recordar que al momento de hacer una división, el denominador no puede ser igual a 0,\n",
        "# por lo que en caso de que el usuario ingrese dicho valor, el programa debe imprimir que la respuesta de la operación de\n",
        "# división con dicho valor ingresado es indefinido.\n",
        "\n",
        "class Calculadora:\n",
        "  def __init__(self,valor1,valor2):\n",
        "    self.valor1 = valor1\n",
        "    self.valor2 = valor2\n",
        "\n",
        "  def sumar(valor1,valor2):\n",
        "    return valor1 + valor2\n",
        "\n",
        "  def restar(valor1,valor2):\n",
        "    return valor1 - valor2\n",
        "\n",
        "  def dividir(valor1,valor2):\n",
        "    if valor2 == 0:\n",
        "      return \"Indefinido\"\n",
        "    return valor1 / valor2\n",
        "\n",
        "  def multiplicar(valor1,valor2):\n",
        "    return valor1 * valor2\n",
        "\n",
        "valor1 = int(input(\"Ingrese el primer valor: \"))\n",
        "valor2 = int(input(\"Ingrese el segundo valor: \"))\n",
        "\n",
        "print(\"El resultado de la suma es: \",Calculadora.sumar(valor1,valor2))\n",
        "print(\"El resultado de la resta es: \",Calculadora.restar(valor1,valor2))\n",
        "print(\"El resultado de la división es: \",Calculadora.dividir(valor1,valor2))\n",
        "print(\"El resultado de la multiplicación es: \",Calculadora.multiplicar(valor1,valor2))"
      ]
    }
  ]
}