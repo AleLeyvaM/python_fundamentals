{
  "metadata": {
    "language_info": {
      "codemirror_mode": {
        "name": "python",
        "version": 3
      },
      "file_extension": ".py",
      "mimetype": "text/x-python",
      "name": "python",
      "nbconvert_exporter": "python",
      "pygments_lexer": "ipython3",
      "version": "3.8"
    },
    "kernelspec": {
      "name": "python",
      "display_name": "Python (Pyodide)",
      "language": "python"
    }
  },
  "nbformat_minor": 4,
  "nbformat": 4,
  "cells": [
    {
      "cell_type": "code",
      "source": "# Ecuación 1: \"El doble de mi edad es 24 años, ¿cuántos años tengo?\"\n\nedad == 24/2\n\nprint(\"Tengo\",int(edad),\"años.\")",
      "metadata": {
        "trusted": true
      },
      "execution_count": 36,
      "outputs": [
        {
          "name": "stdout",
          "text": "Tengo 12 años.\n",
          "output_type": "stream"
        }
      ]
    },
    {
      "cell_type": "code",
      "source": "# Ecuación 2: \"A un tercio de la edad de mi hermana le disminuyo 15 años para tener la misma edad que yo. \n# Yo tengo 6 años. ¿Qué edad tiene ella?\"\n\ny = (x + 15) * 3\nx = 6\n\nprint(\"La edad de mi hermana es\", int(y), \"años.\")",
      "metadata": {
        "trusted": true
      },
      "execution_count": 43,
      "outputs": [
        {
          "name": "stdout",
          "text": "La edad de mi hermana es 63 años.\n",
          "output_type": "stream"
        }
      ]
    },
    {
      "cell_type": "code",
      "source": "# Utilizando estructuras condicionales (if, else), compara las edades representadas por las variables x y y para determinar quién es mayor.\nif x > y: \n    print(\"Soy mayor que mi hermana.\")\nelif x < y:\n    print(\"Soy menor que mi hermana.\")\nelse : print(\"Tengo la misma edad que mi hermana.\")\n",
      "metadata": {
        "trusted": true
      },
      "execution_count": 42,
      "outputs": [
        {
          "name": "stdout",
          "text": "Soy menor que mi hermana.\n",
          "output_type": "stream"
        }
      ]
    },
    {
      "cell_type": "code",
      "source": "",
      "metadata": {},
      "execution_count": null,
      "outputs": []
    }
  ]
}