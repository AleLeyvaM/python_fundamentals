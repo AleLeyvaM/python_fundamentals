{
  "nbformat": 4,
  "nbformat_minor": 0,
  "metadata": {
    "colab": {
      "provenance": []
    },
    "kernelspec": {
      "name": "python3",
      "display_name": "Python 3"
    },
    "language_info": {
      "name": "python"
    }
  },
  "cells": [
    {
      "cell_type": "code",
      "execution_count": 3,
      "metadata": {
        "colab": {
          "base_uri": "https://localhost:8080/"
        },
        "id": "Strsx8LILTrX",
        "outputId": "8d1943bb-e26c-4751-b34a-ee83e5a2e0ca"
      },
      "outputs": [
        {
          "output_type": "stream",
          "name": "stdout",
          "text": [
            "   Nombre  Edad  Salario Genero\n",
            "0   Ringo    45    12000      M\n",
            "1    John    34    14000      M\n",
            "2    Paul    42    13000      M\n",
            "3  Geroge    38    11000      M\n",
            "4    Yoko    47    10000      F\n",
            "El rango es 4000\n"
          ]
        }
      ],
      "source": [
        "# Parte1\n",
        "# Obten la diferencia entre el salario más alto y el más bajo dentro de los datos.\n",
        "# Para esto, se debe encontrar el valor máximo y restarle el valor mínimo de los\n",
        "# datos (la respuesta a esta operación se llama rango de los datos).\n",
        "\n",
        "import pandas as pd\n",
        "\n",
        "salarios={\n",
        "    \"Nombre\":[\"Ringo\",\"John\",\"Paul\",\"Geroge\",\"Yoko\"],\n",
        "    \"Edad\":[45,34,42,38,47],\n",
        "    \"Salario\":[12000,14000,13000,11000,10000],\n",
        "    \"Genero\":[\"M\",\"M\",\"M\",\"M\",\"F\"]\n",
        "}\n",
        "\n",
        "df = pd.DataFrame(salarios)\n",
        "\n",
        "print(df.head())\n",
        "\n",
        "col_salario = df[\"Salario\"]\n",
        "\n",
        "rango = col_salario.max() - col_salario.min()\n",
        "\n",
        "print(f\"El rango es {rango}\")\n",
        "\n"
      ]
    },
    {
      "cell_type": "code",
      "source": [
        "# Parte 2\n",
        "# 1.- Obtener los estadísticos descriptivos de los salarios.\n",
        "# (media, mediana, desviación estándar, etc.)\n",
        "# 2.- Imprime los resultados de una manera sencilla de leer para el usuario.\n",
        "\n",
        "print(col_salario.describe())"
      ],
      "metadata": {
        "colab": {
          "base_uri": "https://localhost:8080/"
        },
        "id": "Me_9YyH3NnRz",
        "outputId": "04eeb457-793d-485d-cf13-c24fdca97cb8"
      },
      "execution_count": 4,
      "outputs": [
        {
          "output_type": "stream",
          "name": "stdout",
          "text": [
            "count        5.00000\n",
            "mean     12000.00000\n",
            "std       1581.13883\n",
            "min      10000.00000\n",
            "25%      11000.00000\n",
            "50%      12000.00000\n",
            "75%      13000.00000\n",
            "max      14000.00000\n",
            "Name: Salario, dtype: float64\n"
          ]
        }
      ]
    }
  ]
}