{
  "nbformat": 4,
  "nbformat_minor": 0,
  "metadata": {
    "colab": {
      "provenance": []
    },
    "kernelspec": {
      "name": "python3",
      "display_name": "Python 3"
    },
    "language_info": {
      "name": "python"
    }
  },
  "cells": [
    {
      "cell_type": "code",
      "execution_count": 3,
      "metadata": {
        "colab": {
          "base_uri": "https://localhost:8080/"
        },
        "id": "qLFhLBtoyX1_",
        "outputId": "6e274e82-2893-4433-df0e-9ffcd9bad4e4"
      },
      "outputs": [
        {
          "output_type": "stream",
          "name": "stdout",
          "text": [
            "La solución cuenta con un valor imaginario\n",
            "False False\n",
            "-2.0 -2.0\n",
            "-3.0 1.0\n"
          ]
        }
      ],
      "source": [
        "  #x = (-b +/- (b^2 - 4ac)^0.5) / (2a)\n",
        "  # Definimos la función con sus parámetros\n",
        "  def cuadratica(a,b,c):\n",
        "    discriminante = b**2 - 4*a*c\n",
        "\n",
        "\n",
        "    if discriminante < 0:\n",
        "      print (\"La solución cuenta con un valor imaginario\")\n",
        "      return False,False\n",
        "    else:\n",
        "      x1 = (-b + (b**2 - 4*a*c)**0.5) / (2*a)\n",
        "      x2 = (-b - (b**2 - 4*a*c)**0.5) / (2*a)\n",
        "      return x1,x2\n",
        "\n",
        "  x1, x2 = cuadratica(1,2,5)\n",
        "  print(x1,x2)\n",
        "\n",
        "  x1, x2 = cuadratica(1,4,4)\n",
        "  print(x1,x2)\n",
        "\n",
        "  x1, x2 = cuadratica(-1,-2,3)\n",
        "  print(x1,x2)"
      ]
    }
  ]
}