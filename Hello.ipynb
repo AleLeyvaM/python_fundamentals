{
  "cells": [
    {
      "cell_type": "code",
      "source": [
        "print(\"Mi nombre es Alejandra Leyva\")\r\n",
        "print(\"Practice makes progress\")"
      ],
      "outputs": [
        {
          "output_type": "display_data",
          "data": {
            "application/vnd.livy.statement-meta+json": {
              "spark_pool": "SPK00",
              "session_id": "41",
              "statement_id": 2,
              "state": "finished",
              "livy_statement_state": "available",
              "queued_time": "2023-07-20T16:43:13.1312975Z",
              "session_start_time": "2023-07-20T16:43:13.1994441Z",
              "execution_start_time": "2023-07-20T16:46:47.5119963Z",
              "execution_finish_time": "2023-07-20T16:46:47.6731403Z",
              "spark_jobs": null,
              "parent_msg_id": "850dfb79-5cf1-4213-8f4c-830701c921a0"
            },
            "text/plain": "StatementMeta(SPK00, 41, 2, Finished, Available)"
          },
          "metadata": {}
        },
        {
          "output_type": "stream",
          "name": "stdout",
          "text": [
            "Mi nombre es Alejandra Leyva\nPractice makes progress\n"
          ]
        }
      ],
      "execution_count": 1,
      "metadata": {}
    },
    {
      "cell_type": "code",
      "source": [],
      "outputs": [],
      "execution_count": null,
      "metadata": {
        "jupyter": {
          "source_hidden": false,
          "outputs_hidden": false
        },
        "nteract": {
          "transient": {
            "deleting": false
          }
        }
      }
    }
  ],
  "metadata": {
    "language_info": {
      "name": "python"
    },
    "kernelspec": {
      "name": "synapse_pyspark",
      "language": "Python",
      "display_name": "Synapse PySpark"
    },
    "kernel_info": {
      "name": "synapse_pyspark"
    },
    "save_output": true,
    "synapse_widget": {
      "version": "0.1",
      "state": {}
    }
  },
  "nbformat": 4,
  "nbformat_minor": 2
}