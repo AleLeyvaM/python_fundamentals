{
  "cells": [
    {
      "cell_type": "code",
      "source": [
        "a=\"Hola mundo\"\r\n",
        "print(a)"
      ],
      "outputs": [
        {
          "output_type": "display_data",
          "data": {
            "application/vnd.livy.statement-meta+json": {
              "spark_pool": "SPK00",
              "session_id": "41",
              "statement_id": 3,
              "state": "finished",
              "livy_statement_state": "available",
              "queued_time": "2023-07-20T17:01:17.4652759Z",
              "session_start_time": null,
              "execution_start_time": "2023-07-20T17:01:17.6210508Z",
              "execution_finish_time": "2023-07-20T17:01:17.7870262Z",
              "spark_jobs": null,
              "parent_msg_id": "cb529951-475c-46b5-8048-4ae7db870b3e"
            },
            "text/plain": "StatementMeta(SPK00, 41, 3, Finished, Available)"
          },
          "metadata": {}
        },
        {
          "output_type": "stream",
          "name": "stdout",
          "text": [
            "Hola mundo\n"
          ]
        }
      ],
      "execution_count": 2,
      "metadata": {}
    },
    {
      "cell_type": "code",
      "source": [],
      "outputs": [],
      "execution_count": null,
      "metadata": {
        "jupyter": {
          "source_hidden": false,
          "outputs_hidden": false
        },
        "nteract": {
          "transient": {
            "deleting": false
          }
        }
      }
    }
  ],
  "metadata": {
    "language_info": {
      "name": "python"
    },
    "kernelspec": {
      "name": "synapse_pyspark",
      "language": "Python",
      "display_name": "Synapse PySpark"
    },
    "kernel_info": {
      "name": "synapse_pyspark"
    },
    "save_output": true,
    "synapse_widget": {
      "version": "0.1",
      "state": {}
    }
  },
  "nbformat": 4,
  "nbformat_minor": 2
}