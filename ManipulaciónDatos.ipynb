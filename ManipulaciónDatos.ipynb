{
  "nbformat": 4,
  "nbformat_minor": 0,
  "metadata": {
    "colab": {
      "provenance": []
    },
    "kernelspec": {
      "name": "python3",
      "display_name": "Python 3"
    },
    "language_info": {
      "name": "python"
    }
  },
  "cells": [
    {
      "cell_type": "code",
      "execution_count": 38,
      "metadata": {
        "colab": {
          "base_uri": "https://localhost:8080/"
        },
        "id": "ZYu6eQLmRBwx",
        "outputId": "db8824e6-19d1-47af-b2b5-9e3108c73b77"
      },
      "outputs": [
        {
          "output_type": "stream",
          "name": "stdout",
          "text": [
            "Ingrese el monto de la compra: 900\n",
            "Ingrese el monto de la compra: 0\n",
            "Total a pagar: $ 900.0\n"
          ]
        }
      ],
      "source": [
        "total = 0\n",
        "while True:\n",
        "    monto = float(input(\"Ingrese el monto de la compra: \"))\n",
        "    if monto == 0:\n",
        "      break;\n",
        "    elif monto < 0:\n",
        "      print(\"El valor ingresado no es válido.\")\n",
        "      continue;\n",
        "    total += monto\n",
        "if total > 1000:\n",
        "    total *= 0.9\n",
        "print(\"Total a pagar: $\", total)"
      ]
    },
    {
      "cell_type": "code",
      "source": [
        "# Inicializar variables\n",
        "total = 0\n",
        "tarifa_fija = 25\n",
        "costo_fraccion_hora = 15\n",
        "costo_total = 0\n",
        "costo_hora_adicional = 15\n",
        "tarifa_extra_8h = 200\n",
        "\n",
        "# Input de minutos de la estancia del usuario en el estacionamiento\n",
        "while True:\n",
        "    minutos = int(input(\"Ingrese el tiempo de estancia en minutos: \"))\n",
        "    if minutos == 0:\n",
        "      break;\n",
        "    elif minutos < 0:\n",
        "      print(\"El valor ingresado no es válido.\")\n",
        "      continue;\n",
        "    total += minutos\n",
        "hora_adicional = (total-60)//60\n",
        "fraccion_de_hora = (total)%60\n",
        "\n",
        "# Escenario en el que el usuario ingresó 0 porque no estuvo en el estacionamiento:\n",
        "if total == 0:\n",
        "  print(\"Total a pagar: $0\")\n",
        "# Escenario en el que el usuario estuvo una hora o menos en el estacionamiento:\n",
        "elif total <= 60:\n",
        "  print(\"Total a pagar: $\", tarifa_fija)\n",
        "# Escenarios en el que el usuario estuvo menos de 8 horas:\n",
        "elif total <= 480:\n",
        "  # Aquí cuando hay fracción de hora\n",
        "  if fraccion_de_hora > 0:\n",
        "    costo_fraccion_hora = 15\n",
        "    costo_total= tarifa_fija + costo_hora_adicional + costo_fraccion_hora\n",
        "    print(\"Total a pagar: $\", costo_total)\n",
        "  # Aquí cuando estuvo horas completas\n",
        "  elif fraccion_de_hora == 0:\n",
        "    costo_hora_adicional = hora_adicional*15\n",
        "    costo_total = tarifa_fija + costo_hora_adicional\n",
        "    print(\"Total a pagar: $\", costo_total)\n",
        "# Escenarios en los que el usuarii estuvo mas de 8 hrs en el estacionamiento:\n",
        "else:\n",
        "  # Aquí cuando hay fracción de hora\n",
        "  if fraccion_de_hora > 0:\n",
        "    costo_fraccion_hora = 15\n",
        "    costo_total= tarifa_fija + costo_hora_adicional*hora_adicional + costo_fraccion_hora + tarifa_extra_8h\n",
        "    print(\"Total a pagar: $\", costo_total)\n",
        "  # Aquí cuando no hay fracción de hora\n",
        "  elif fraccion_de_hora == 0:\n",
        "    costo_hora_adicional = hora_adicional*15\n",
        "    costo_total = tarifa_fija + costo_hora_adicional + tarifa_extra_8h\n",
        "    print(\"Total a pagar: $\", costo_total)"
      ],
      "metadata": {
        "colab": {
          "base_uri": "https://localhost:8080/"
        },
        "id": "Qm1K_xwaRUGL",
        "outputId": "1664996c-3b59-458a-f44e-9007782b50f3"
      },
      "execution_count": 82,
      "outputs": [
        {
          "output_type": "stream",
          "name": "stdout",
          "text": [
            "Ingrese el tiempo de estancia en minutos: -5\n",
            "El valor ingresado no es válido.\n",
            "Ingrese el tiempo de estancia en minutos: 121\n",
            "Ingrese el tiempo de estancia en minutos: 0\n",
            "Total a pagar: $ 55\n"
          ]
        }
      ]
    },
    {
      "cell_type": "code",
      "source": [],
      "metadata": {
        "id": "5i43zuJAWRD7"
      },
      "execution_count": null,
      "outputs": []
    }
  ]
}