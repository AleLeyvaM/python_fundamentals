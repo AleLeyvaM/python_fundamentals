{
  "metadata": {
    "language_info": {
      "codemirror_mode": {
        "name": "python",
        "version": 3
      },
      "file_extension": ".py",
      "mimetype": "text/x-python",
      "name": "python",
      "nbconvert_exporter": "python",
      "pygments_lexer": "ipython3",
      "version": "3.8"
    },
    "kernelspec": {
      "name": "python",
      "display_name": "Python (Pyodide)",
      "language": "python"
    }
  },
  "nbformat_minor": 4,
  "nbformat": 4,
  "cells": [
    {
      "cell_type": "code",
      "source": "#PARTE 1\n# Importa la biblioteca NumPy en tu entorno de programación\n\nimport numpy as np3\n\n# Crea una matriz bidimensional llamada ventas_mensuales con una dimensión de 12 filas (representando los meses del año) \n# y 4 columnas (representando los productos vendidos). Los valores de la matriz representarán las ventas mensuales de cada producto.\n\nventas_mensuales = np.array([[300,260,450,600],[300,400,873,600],[567,932,450,126],\\\n                            [400,350,983,934],[765,400,450,600],[300,400,125,600],\\\n                            [670,632,450,600],[300,973,450,871],[890,763,450,643],\\\n                            [872,400,450,123],[987,400,982,600],[300,235,450,600]])\n\n# Imprime la matriz ventas_mensuales para verificar su contenido.\nprint(ventas_mensuales)",
      "metadata": {
        "trusted": true
      },
      "execution_count": 10,
      "outputs": [
        {
          "name": "stdout",
          "text": "[[300 260 450 600]\n [300 400 873 600]\n [567 932 450 126]\n [400 350 983 934]\n [765 400 450 600]\n [300 400 125 600]\n [670 632 450 600]\n [300 973 450 871]\n [890 763 450 643]\n [872 400 450 123]\n [987 400 982 600]\n [300 235 450 600]]\n",
          "output_type": "stream"
        }
      ]
    },
    {
      "cell_type": "code",
      "source": "# PARTE 2\n\n# Calcula el total_de_ventas_producto sumando los valores de cada columna utilizando la función sum() de NumPy.\n\n# total de ventas por año\ntotal_de_ventas_producto = np.sum(ventas_mensuales,axis=0)\n\n# ventas totales de los 4 años\ntotal_de_ventas_4años = np.sum(ventas_mensuales)\n\n#Imprime el total_de_ventas_producto.\nprint(total_de_ventas_producto)\nprint(total_de_ventas_4años)",
      "metadata": {
        "trusted": true
      },
      "execution_count": 18,
      "outputs": [
        {
          "name": "stdout",
          "text": "[6651 6145 6563 6897]\n26256\n",
          "output_type": "stream"
        }
      ]
    },
    {
      "cell_type": "code",
      "source": "",
      "metadata": {},
      "execution_count": null,
      "outputs": []
    }
  ]
}